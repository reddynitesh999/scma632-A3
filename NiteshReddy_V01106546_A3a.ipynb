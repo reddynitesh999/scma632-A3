{
 "cells": [
  {
   "cell_type": "markdown",
   "id": "f9f3b160",
   "metadata": {},
   "source": [
    "***IMPORT NECESSARY LIBRARIES***"
   ]
  },
  {
   "cell_type": "code",
   "execution_count": 2,
   "id": "d1799961",
   "metadata": {
    "ExecuteTime": {
     "end_time": "2024-07-01T06:43:10.350923Z",
     "start_time": "2024-07-01T06:43:07.504932Z"
    }
   },
   "outputs": [],
   "source": [
    "import os, pandas as pd, numpy as np\n",
    "from sklearn.linear_model import LogisticRegression\n",
    "from sklearn.model_selection import train_test_split\n",
    "from sklearn.metrics import classification_report, roc_curve, auc, confusion_matrix, ConfusionMatrixDisplay\n",
    "import matplotlib.pyplot as plt\n",
    "from sklearn.preprocessing import LabelEncoder\n",
    "from sklearn.preprocessing import MinMaxScaler\n",
    "from sklearn.feature_selection import mutual_info_classif\n",
    "from sklearn.tree import DecisionTreeClassifier"
   ]
  },
  {
   "cell_type": "markdown",
   "id": "fd51b042",
   "metadata": {},
   "source": [
    "***IMPORT DATASET***"
   ]
  },
  {
   "cell_type": "code",
   "execution_count": 19,
   "id": "ca75f1c3",
   "metadata": {
    "ExecuteTime": {
     "end_time": "2024-07-01T06:43:10.357959Z",
     "start_time": "2024-07-01T06:43:10.352928Z"
    }
   },
   "outputs": [],
   "source": [
    "os.chdir(\"/Users/niteshreddy/Downloads/\")"
   ]
  },
  {
   "cell_type": "code",
   "execution_count": 21,
   "id": "b16775f0",
   "metadata": {
    "ExecuteTime": {
     "end_time": "2024-07-01T06:43:10.569140Z",
     "start_time": "2024-07-01T06:43:10.361824Z"
    }
   },
   "outputs": [
    {
     "data": {
      "text/html": [
       "<div>\n",
       "<style scoped>\n",
       "    .dataframe tbody tr th:only-of-type {\n",
       "        vertical-align: middle;\n",
       "    }\n",
       "\n",
       "    .dataframe tbody tr th {\n",
       "        vertical-align: top;\n",
       "    }\n",
       "\n",
       "    .dataframe thead th {\n",
       "        text-align: right;\n",
       "    }\n",
       "</style>\n",
       "<table border=\"1\" class=\"dataframe\">\n",
       "  <thead>\n",
       "    <tr style=\"text-align: right;\">\n",
       "      <th></th>\n",
       "      <th>ID</th>\n",
       "      <th>LIMIT_BAL</th>\n",
       "      <th>SEX</th>\n",
       "      <th>EDUCATION</th>\n",
       "      <th>MARRIAGE</th>\n",
       "      <th>AGE</th>\n",
       "      <th>PAY_0</th>\n",
       "      <th>PAY_2</th>\n",
       "      <th>PAY_3</th>\n",
       "      <th>PAY_4</th>\n",
       "      <th>...</th>\n",
       "      <th>BILL_AMT4</th>\n",
       "      <th>BILL_AMT5</th>\n",
       "      <th>BILL_AMT6</th>\n",
       "      <th>PAY_AMT1</th>\n",
       "      <th>PAY_AMT2</th>\n",
       "      <th>PAY_AMT3</th>\n",
       "      <th>PAY_AMT4</th>\n",
       "      <th>PAY_AMT5</th>\n",
       "      <th>PAY_AMT6</th>\n",
       "      <th>default</th>\n",
       "    </tr>\n",
       "  </thead>\n",
       "  <tbody>\n",
       "    <tr>\n",
       "      <th>0</th>\n",
       "      <td>1</td>\n",
       "      <td>20000</td>\n",
       "      <td>F</td>\n",
       "      <td>University</td>\n",
       "      <td>Married</td>\n",
       "      <td>24</td>\n",
       "      <td>2</td>\n",
       "      <td>2</td>\n",
       "      <td>-1</td>\n",
       "      <td>-1</td>\n",
       "      <td>...</td>\n",
       "      <td>0</td>\n",
       "      <td>0</td>\n",
       "      <td>0</td>\n",
       "      <td>0</td>\n",
       "      <td>689</td>\n",
       "      <td>0</td>\n",
       "      <td>0</td>\n",
       "      <td>0</td>\n",
       "      <td>0</td>\n",
       "      <td>Y</td>\n",
       "    </tr>\n",
       "    <tr>\n",
       "      <th>1</th>\n",
       "      <td>2</td>\n",
       "      <td>120000</td>\n",
       "      <td>F</td>\n",
       "      <td>University</td>\n",
       "      <td>Single</td>\n",
       "      <td>26</td>\n",
       "      <td>-1</td>\n",
       "      <td>2</td>\n",
       "      <td>0</td>\n",
       "      <td>0</td>\n",
       "      <td>...</td>\n",
       "      <td>3272</td>\n",
       "      <td>3455</td>\n",
       "      <td>3261</td>\n",
       "      <td>0</td>\n",
       "      <td>1000</td>\n",
       "      <td>1000</td>\n",
       "      <td>1000</td>\n",
       "      <td>0</td>\n",
       "      <td>2000</td>\n",
       "      <td>Y</td>\n",
       "    </tr>\n",
       "    <tr>\n",
       "      <th>2</th>\n",
       "      <td>3</td>\n",
       "      <td>90000</td>\n",
       "      <td>F</td>\n",
       "      <td>University</td>\n",
       "      <td>Single</td>\n",
       "      <td>34</td>\n",
       "      <td>0</td>\n",
       "      <td>0</td>\n",
       "      <td>0</td>\n",
       "      <td>0</td>\n",
       "      <td>...</td>\n",
       "      <td>14331</td>\n",
       "      <td>14948</td>\n",
       "      <td>15549</td>\n",
       "      <td>1518</td>\n",
       "      <td>1500</td>\n",
       "      <td>1000</td>\n",
       "      <td>1000</td>\n",
       "      <td>1000</td>\n",
       "      <td>5000</td>\n",
       "      <td>N</td>\n",
       "    </tr>\n",
       "    <tr>\n",
       "      <th>3</th>\n",
       "      <td>4</td>\n",
       "      <td>50000</td>\n",
       "      <td>F</td>\n",
       "      <td>University</td>\n",
       "      <td>Married</td>\n",
       "      <td>37</td>\n",
       "      <td>0</td>\n",
       "      <td>0</td>\n",
       "      <td>0</td>\n",
       "      <td>0</td>\n",
       "      <td>...</td>\n",
       "      <td>28314</td>\n",
       "      <td>28959</td>\n",
       "      <td>29547</td>\n",
       "      <td>2000</td>\n",
       "      <td>2019</td>\n",
       "      <td>1200</td>\n",
       "      <td>1100</td>\n",
       "      <td>1069</td>\n",
       "      <td>1000</td>\n",
       "      <td>N</td>\n",
       "    </tr>\n",
       "    <tr>\n",
       "      <th>4</th>\n",
       "      <td>5</td>\n",
       "      <td>50000</td>\n",
       "      <td>M</td>\n",
       "      <td>University</td>\n",
       "      <td>Married</td>\n",
       "      <td>57</td>\n",
       "      <td>-1</td>\n",
       "      <td>0</td>\n",
       "      <td>-1</td>\n",
       "      <td>0</td>\n",
       "      <td>...</td>\n",
       "      <td>20940</td>\n",
       "      <td>19146</td>\n",
       "      <td>19131</td>\n",
       "      <td>2000</td>\n",
       "      <td>36681</td>\n",
       "      <td>10000</td>\n",
       "      <td>9000</td>\n",
       "      <td>689</td>\n",
       "      <td>679</td>\n",
       "      <td>N</td>\n",
       "    </tr>\n",
       "  </tbody>\n",
       "</table>\n",
       "<p>5 rows × 25 columns</p>\n",
       "</div>"
      ],
      "text/plain": [
       "   ID  LIMIT_BAL SEX   EDUCATION MARRIAGE  AGE  PAY_0  PAY_2  PAY_3  PAY_4  \\\n",
       "0   1      20000   F  University  Married   24      2      2     -1     -1   \n",
       "1   2     120000   F  University   Single   26     -1      2      0      0   \n",
       "2   3      90000   F  University   Single   34      0      0      0      0   \n",
       "3   4      50000   F  University  Married   37      0      0      0      0   \n",
       "4   5      50000   M  University  Married   57     -1      0     -1      0   \n",
       "\n",
       "   ...  BILL_AMT4  BILL_AMT5  BILL_AMT6  PAY_AMT1  PAY_AMT2  PAY_AMT3  \\\n",
       "0  ...          0          0          0         0       689         0   \n",
       "1  ...       3272       3455       3261         0      1000      1000   \n",
       "2  ...      14331      14948      15549      1518      1500      1000   \n",
       "3  ...      28314      28959      29547      2000      2019      1200   \n",
       "4  ...      20940      19146      19131      2000     36681     10000   \n",
       "\n",
       "   PAY_AMT4  PAY_AMT5  PAY_AMT6  default   \n",
       "0         0         0         0         Y  \n",
       "1      1000         0      2000         Y  \n",
       "2      1000      1000      5000         N  \n",
       "3      1100      1069      1000         N  \n",
       "4      9000       689       679         N  \n",
       "\n",
       "[5 rows x 25 columns]"
      ]
     },
     "execution_count": 21,
     "metadata": {},
     "output_type": "execute_result"
    }
   ],
   "source": [
    "df = pd.read_csv('Credit Card Defaulter Prediction.csv')\n",
    "df.head()"
   ]
  },
  {
   "cell_type": "markdown",
   "id": "05e66c6d",
   "metadata": {
    "ExecuteTime": {
     "end_time": "2024-07-01T06:30:30.441523Z",
     "start_time": "2024-07-01T06:30:30.435853Z"
    }
   },
   "source": [
    "***DATA CELANING AND EDA***"
   ]
  },
  {
   "cell_type": "code",
   "execution_count": 24,
   "id": "e8b1f671",
   "metadata": {
    "ExecuteTime": {
     "end_time": "2024-07-01T06:43:10.578658Z",
     "start_time": "2024-07-01T06:43:10.572961Z"
    }
   },
   "outputs": [],
   "source": [
    "# column name have spaces and remove them\n",
    "df.rename(columns={\"default \": \"default\"},inplace = True)"
   ]
  },
  {
   "cell_type": "code",
   "execution_count": 26,
   "id": "3a8832bb",
   "metadata": {
    "ExecuteTime": {
     "end_time": "2024-07-01T06:43:10.593503Z",
     "start_time": "2024-07-01T06:43:10.580655Z"
    }
   },
   "outputs": [
    {
     "data": {
      "text/plain": [
       "default\n",
       "N    23364\n",
       "Y     6636\n",
       "Name: count, dtype: int64"
      ]
     },
     "execution_count": 26,
     "metadata": {},
     "output_type": "execute_result"
    }
   ],
   "source": [
    "# We can See Dataset is imbalanced\n",
    "df[\"default\"].value_counts()"
   ]
  },
  {
   "cell_type": "code",
   "execution_count": 28,
   "id": "23b798fa",
   "metadata": {
    "ExecuteTime": {
     "end_time": "2024-07-01T06:43:10.608568Z",
     "start_time": "2024-07-01T06:43:10.595008Z"
    }
   },
   "outputs": [],
   "source": [
    "df.drop(['ID'],axis=1, inplace=True)"
   ]
  },
  {
   "cell_type": "code",
   "execution_count": 30,
   "id": "a4ef8ff5",
   "metadata": {
    "ExecuteTime": {
     "end_time": "2024-07-01T06:43:10.642352Z",
     "start_time": "2024-07-01T06:43:10.610398Z"
    }
   },
   "outputs": [
    {
     "data": {
      "text/html": [
       "<div>\n",
       "<style scoped>\n",
       "    .dataframe tbody tr th:only-of-type {\n",
       "        vertical-align: middle;\n",
       "    }\n",
       "\n",
       "    .dataframe tbody tr th {\n",
       "        vertical-align: top;\n",
       "    }\n",
       "\n",
       "    .dataframe thead th {\n",
       "        text-align: right;\n",
       "    }\n",
       "</style>\n",
       "<table border=\"1\" class=\"dataframe\">\n",
       "  <thead>\n",
       "    <tr style=\"text-align: right;\">\n",
       "      <th></th>\n",
       "      <th>SEX</th>\n",
       "      <th>EDUCATION</th>\n",
       "      <th>MARRIAGE</th>\n",
       "      <th>default</th>\n",
       "    </tr>\n",
       "  </thead>\n",
       "  <tbody>\n",
       "    <tr>\n",
       "      <th>0</th>\n",
       "      <td>F</td>\n",
       "      <td>University</td>\n",
       "      <td>Married</td>\n",
       "      <td>Y</td>\n",
       "    </tr>\n",
       "    <tr>\n",
       "      <th>1</th>\n",
       "      <td>F</td>\n",
       "      <td>University</td>\n",
       "      <td>Single</td>\n",
       "      <td>Y</td>\n",
       "    </tr>\n",
       "    <tr>\n",
       "      <th>2</th>\n",
       "      <td>F</td>\n",
       "      <td>University</td>\n",
       "      <td>Single</td>\n",
       "      <td>N</td>\n",
       "    </tr>\n",
       "    <tr>\n",
       "      <th>3</th>\n",
       "      <td>F</td>\n",
       "      <td>University</td>\n",
       "      <td>Married</td>\n",
       "      <td>N</td>\n",
       "    </tr>\n",
       "    <tr>\n",
       "      <th>4</th>\n",
       "      <td>M</td>\n",
       "      <td>University</td>\n",
       "      <td>Married</td>\n",
       "      <td>N</td>\n",
       "    </tr>\n",
       "  </tbody>\n",
       "</table>\n",
       "</div>"
      ],
      "text/plain": [
       "  SEX   EDUCATION MARRIAGE default\n",
       "0   F  University  Married       Y\n",
       "1   F  University   Single       Y\n",
       "2   F  University   Single       N\n",
       "3   F  University  Married       N\n",
       "4   M  University  Married       N"
      ]
     },
     "execution_count": 30,
     "metadata": {},
     "output_type": "execute_result"
    }
   ],
   "source": [
    "cat_features = df.select_dtypes(include='object')\n",
    "cat_features.head()"
   ]
  },
  {
   "cell_type": "markdown",
   "id": "2c577bd6",
   "metadata": {},
   "source": [
    "***DATA ENCODING FOR CATEGORICAL VARIABLES***"
   ]
  },
  {
   "cell_type": "code",
   "execution_count": 33,
   "id": "9b498e28",
   "metadata": {
    "ExecuteTime": {
     "end_time": "2024-07-01T06:43:10.681068Z",
     "start_time": "2024-07-01T06:43:10.644594Z"
    }
   },
   "outputs": [],
   "source": [
    "# encoding category columns\n",
    "le = LabelEncoder()\n",
    "encoded_num_df = pd.DataFrame()\n",
    "for col in cat_features.columns:\n",
    "    encoded_num_df[col] = le.fit_transform(cat_features[col])"
   ]
  },
  {
   "cell_type": "code",
   "execution_count": 35,
   "id": "d7e96fe1",
   "metadata": {
    "ExecuteTime": {
     "end_time": "2024-07-01T06:43:10.691002Z",
     "start_time": "2024-07-01T06:43:10.683076Z"
    }
   },
   "outputs": [
    {
     "data": {
      "text/html": [
       "<div>\n",
       "<style scoped>\n",
       "    .dataframe tbody tr th:only-of-type {\n",
       "        vertical-align: middle;\n",
       "    }\n",
       "\n",
       "    .dataframe tbody tr th {\n",
       "        vertical-align: top;\n",
       "    }\n",
       "\n",
       "    .dataframe thead th {\n",
       "        text-align: right;\n",
       "    }\n",
       "</style>\n",
       "<table border=\"1\" class=\"dataframe\">\n",
       "  <thead>\n",
       "    <tr style=\"text-align: right;\">\n",
       "      <th></th>\n",
       "      <th>SEX</th>\n",
       "      <th>EDUCATION</th>\n",
       "      <th>MARRIAGE</th>\n",
       "      <th>default</th>\n",
       "    </tr>\n",
       "  </thead>\n",
       "  <tbody>\n",
       "    <tr>\n",
       "      <th>0</th>\n",
       "      <td>0</td>\n",
       "      <td>4</td>\n",
       "      <td>1</td>\n",
       "      <td>1</td>\n",
       "    </tr>\n",
       "    <tr>\n",
       "      <th>1</th>\n",
       "      <td>0</td>\n",
       "      <td>4</td>\n",
       "      <td>3</td>\n",
       "      <td>1</td>\n",
       "    </tr>\n",
       "    <tr>\n",
       "      <th>2</th>\n",
       "      <td>0</td>\n",
       "      <td>4</td>\n",
       "      <td>3</td>\n",
       "      <td>0</td>\n",
       "    </tr>\n",
       "    <tr>\n",
       "      <th>3</th>\n",
       "      <td>0</td>\n",
       "      <td>4</td>\n",
       "      <td>1</td>\n",
       "      <td>0</td>\n",
       "    </tr>\n",
       "    <tr>\n",
       "      <th>4</th>\n",
       "      <td>1</td>\n",
       "      <td>4</td>\n",
       "      <td>1</td>\n",
       "      <td>0</td>\n",
       "    </tr>\n",
       "  </tbody>\n",
       "</table>\n",
       "</div>"
      ],
      "text/plain": [
       "   SEX  EDUCATION  MARRIAGE  default\n",
       "0    0          4         1        1\n",
       "1    0          4         3        1\n",
       "2    0          4         3        0\n",
       "3    0          4         1        0\n",
       "4    1          4         1        0"
      ]
     },
     "execution_count": 35,
     "metadata": {},
     "output_type": "execute_result"
    }
   ],
   "source": [
    "encoded_num_df.head()"
   ]
  },
  {
   "cell_type": "code",
   "execution_count": 37,
   "id": "a5aeab62",
   "metadata": {
    "ExecuteTime": {
     "end_time": "2024-07-01T06:43:10.716723Z",
     "start_time": "2024-07-01T06:43:10.693422Z"
    }
   },
   "outputs": [
    {
     "data": {
      "text/html": [
       "<div>\n",
       "<style scoped>\n",
       "    .dataframe tbody tr th:only-of-type {\n",
       "        vertical-align: middle;\n",
       "    }\n",
       "\n",
       "    .dataframe tbody tr th {\n",
       "        vertical-align: top;\n",
       "    }\n",
       "\n",
       "    .dataframe thead th {\n",
       "        text-align: right;\n",
       "    }\n",
       "</style>\n",
       "<table border=\"1\" class=\"dataframe\">\n",
       "  <thead>\n",
       "    <tr style=\"text-align: right;\">\n",
       "      <th></th>\n",
       "      <th>SEX</th>\n",
       "      <th>EDUCATION</th>\n",
       "      <th>MARRIAGE</th>\n",
       "      <th>default</th>\n",
       "      <th>LIMIT_BAL</th>\n",
       "      <th>AGE</th>\n",
       "      <th>PAY_0</th>\n",
       "      <th>PAY_2</th>\n",
       "      <th>PAY_3</th>\n",
       "      <th>PAY_4</th>\n",
       "      <th>...</th>\n",
       "      <th>BILL_AMT3</th>\n",
       "      <th>BILL_AMT4</th>\n",
       "      <th>BILL_AMT5</th>\n",
       "      <th>BILL_AMT6</th>\n",
       "      <th>PAY_AMT1</th>\n",
       "      <th>PAY_AMT2</th>\n",
       "      <th>PAY_AMT3</th>\n",
       "      <th>PAY_AMT4</th>\n",
       "      <th>PAY_AMT5</th>\n",
       "      <th>PAY_AMT6</th>\n",
       "    </tr>\n",
       "  </thead>\n",
       "  <tbody>\n",
       "    <tr>\n",
       "      <th>0</th>\n",
       "      <td>0</td>\n",
       "      <td>4</td>\n",
       "      <td>1</td>\n",
       "      <td>1</td>\n",
       "      <td>20000</td>\n",
       "      <td>24</td>\n",
       "      <td>2</td>\n",
       "      <td>2</td>\n",
       "      <td>-1</td>\n",
       "      <td>-1</td>\n",
       "      <td>...</td>\n",
       "      <td>689</td>\n",
       "      <td>0</td>\n",
       "      <td>0</td>\n",
       "      <td>0</td>\n",
       "      <td>0</td>\n",
       "      <td>689</td>\n",
       "      <td>0</td>\n",
       "      <td>0</td>\n",
       "      <td>0</td>\n",
       "      <td>0</td>\n",
       "    </tr>\n",
       "    <tr>\n",
       "      <th>1</th>\n",
       "      <td>0</td>\n",
       "      <td>4</td>\n",
       "      <td>3</td>\n",
       "      <td>1</td>\n",
       "      <td>120000</td>\n",
       "      <td>26</td>\n",
       "      <td>-1</td>\n",
       "      <td>2</td>\n",
       "      <td>0</td>\n",
       "      <td>0</td>\n",
       "      <td>...</td>\n",
       "      <td>2682</td>\n",
       "      <td>3272</td>\n",
       "      <td>3455</td>\n",
       "      <td>3261</td>\n",
       "      <td>0</td>\n",
       "      <td>1000</td>\n",
       "      <td>1000</td>\n",
       "      <td>1000</td>\n",
       "      <td>0</td>\n",
       "      <td>2000</td>\n",
       "    </tr>\n",
       "    <tr>\n",
       "      <th>2</th>\n",
       "      <td>0</td>\n",
       "      <td>4</td>\n",
       "      <td>3</td>\n",
       "      <td>0</td>\n",
       "      <td>90000</td>\n",
       "      <td>34</td>\n",
       "      <td>0</td>\n",
       "      <td>0</td>\n",
       "      <td>0</td>\n",
       "      <td>0</td>\n",
       "      <td>...</td>\n",
       "      <td>13559</td>\n",
       "      <td>14331</td>\n",
       "      <td>14948</td>\n",
       "      <td>15549</td>\n",
       "      <td>1518</td>\n",
       "      <td>1500</td>\n",
       "      <td>1000</td>\n",
       "      <td>1000</td>\n",
       "      <td>1000</td>\n",
       "      <td>5000</td>\n",
       "    </tr>\n",
       "    <tr>\n",
       "      <th>3</th>\n",
       "      <td>0</td>\n",
       "      <td>4</td>\n",
       "      <td>1</td>\n",
       "      <td>0</td>\n",
       "      <td>50000</td>\n",
       "      <td>37</td>\n",
       "      <td>0</td>\n",
       "      <td>0</td>\n",
       "      <td>0</td>\n",
       "      <td>0</td>\n",
       "      <td>...</td>\n",
       "      <td>49291</td>\n",
       "      <td>28314</td>\n",
       "      <td>28959</td>\n",
       "      <td>29547</td>\n",
       "      <td>2000</td>\n",
       "      <td>2019</td>\n",
       "      <td>1200</td>\n",
       "      <td>1100</td>\n",
       "      <td>1069</td>\n",
       "      <td>1000</td>\n",
       "    </tr>\n",
       "    <tr>\n",
       "      <th>4</th>\n",
       "      <td>1</td>\n",
       "      <td>4</td>\n",
       "      <td>1</td>\n",
       "      <td>0</td>\n",
       "      <td>50000</td>\n",
       "      <td>57</td>\n",
       "      <td>-1</td>\n",
       "      <td>0</td>\n",
       "      <td>-1</td>\n",
       "      <td>0</td>\n",
       "      <td>...</td>\n",
       "      <td>35835</td>\n",
       "      <td>20940</td>\n",
       "      <td>19146</td>\n",
       "      <td>19131</td>\n",
       "      <td>2000</td>\n",
       "      <td>36681</td>\n",
       "      <td>10000</td>\n",
       "      <td>9000</td>\n",
       "      <td>689</td>\n",
       "      <td>679</td>\n",
       "    </tr>\n",
       "  </tbody>\n",
       "</table>\n",
       "<p>5 rows × 24 columns</p>\n",
       "</div>"
      ],
      "text/plain": [
       "   SEX  EDUCATION  MARRIAGE  default  LIMIT_BAL  AGE  PAY_0  PAY_2  PAY_3  \\\n",
       "0    0          4         1        1      20000   24      2      2     -1   \n",
       "1    0          4         3        1     120000   26     -1      2      0   \n",
       "2    0          4         3        0      90000   34      0      0      0   \n",
       "3    0          4         1        0      50000   37      0      0      0   \n",
       "4    1          4         1        0      50000   57     -1      0     -1   \n",
       "\n",
       "   PAY_4  ...  BILL_AMT3  BILL_AMT4  BILL_AMT5  BILL_AMT6  PAY_AMT1  PAY_AMT2  \\\n",
       "0     -1  ...        689          0          0          0         0       689   \n",
       "1      0  ...       2682       3272       3455       3261         0      1000   \n",
       "2      0  ...      13559      14331      14948      15549      1518      1500   \n",
       "3      0  ...      49291      28314      28959      29547      2000      2019   \n",
       "4      0  ...      35835      20940      19146      19131      2000     36681   \n",
       "\n",
       "   PAY_AMT3  PAY_AMT4  PAY_AMT5  PAY_AMT6  \n",
       "0         0         0         0         0  \n",
       "1      1000      1000         0      2000  \n",
       "2      1000      1000      1000      5000  \n",
       "3      1200      1100      1069      1000  \n",
       "4     10000      9000       689       679  \n",
       "\n",
       "[5 rows x 24 columns]"
      ]
     },
     "execution_count": 37,
     "metadata": {},
     "output_type": "execute_result"
    }
   ],
   "source": [
    "# final data\n",
    "f_data = pd.concat([encoded_num_df,df.drop(['SEX','EDUCATION','MARRIAGE','default'],axis=1)],axis=1)\n",
    "f_data.head()"
   ]
  },
  {
   "cell_type": "markdown",
   "id": "196a0fb3",
   "metadata": {
    "ExecuteTime": {
     "end_time": "2024-07-01T06:31:23.558143Z",
     "start_time": "2024-07-01T06:31:23.550731Z"
    }
   },
   "source": [
    "***TEST TRAIN SPLIT***"
   ]
  },
  {
   "cell_type": "code",
   "execution_count": 40,
   "id": "88229283",
   "metadata": {
    "ExecuteTime": {
     "end_time": "2024-07-01T06:43:10.746705Z",
     "start_time": "2024-07-01T06:43:10.718765Z"
    }
   },
   "outputs": [],
   "source": [
    "# split data training and testing \n",
    "x_train,x_test,y_train,y_test = train_test_split(f_data.drop('default',axis=1),f_data['default'],test_size=0.2,random_state=42)"
   ]
  },
  {
   "cell_type": "markdown",
   "id": "af4c9dc0",
   "metadata": {},
   "source": [
    "***SCALING THE DATA***"
   ]
  },
  {
   "cell_type": "code",
   "execution_count": 43,
   "id": "2750918f",
   "metadata": {
    "ExecuteTime": {
     "end_time": "2024-07-01T06:43:10.790423Z",
     "start_time": "2024-07-01T06:43:10.750728Z"
    }
   },
   "outputs": [],
   "source": [
    "# scale data to 0 to 1 range \n",
    "sc = MinMaxScaler()\n",
    "sc_x_train = pd.DataFrame(sc.fit_transform(x_train),columns=sc.feature_names_in_)\n",
    "sc_x_test = pd.DataFrame(sc.fit_transform(x_test),columns=sc.feature_names_in_)"
   ]
  },
  {
   "cell_type": "code",
   "execution_count": 45,
   "id": "24f41edf",
   "metadata": {
    "ExecuteTime": {
     "end_time": "2024-07-01T06:43:14.325405Z",
     "start_time": "2024-07-01T06:43:10.792420Z"
    }
   },
   "outputs": [],
   "source": [
    "mutual_info_scores = mutual_info_classif(sc_x_train, y_train)\n",
    "feature_scores_df = pd.DataFrame({'Feature': sc_x_train.columns, 'Mutual_Info_Score': mutual_info_scores})\n",
    "feature_scores_df = feature_scores_df.sort_values(by='Mutual_Info_Score', ascending=False)"
   ]
  },
  {
   "cell_type": "markdown",
   "id": "01660d49",
   "metadata": {},
   "source": [
    "***SELECT FEATURES BASED ON FEATURE IMPORTANCE***"
   ]
  },
  {
   "cell_type": "code",
   "execution_count": 47,
   "id": "f211d1f7",
   "metadata": {
    "ExecuteTime": {
     "end_time": "2024-07-01T06:43:14.340015Z",
     "start_time": "2024-07-01T06:43:14.325405Z"
    }
   },
   "outputs": [
    {
     "name": "stdout",
     "output_type": "stream",
     "text": [
      "Selected Features: ['PAY_0', 'PAY_2', 'PAY_3', 'PAY_4', 'PAY_6', 'PAY_5', 'PAY_AMT1', 'PAY_AMT3', 'PAY_AMT5', 'PAY_AMT4', 'LIMIT_BAL', 'PAY_AMT2', 'PAY_AMT6', 'BILL_AMT5', 'EDUCATION']\n"
     ]
    }
   ],
   "source": [
    "# choose 15 top features for model training\n",
    "selected_features = feature_scores_df.head(15)['Feature'].tolist()\n",
    "print(\"Selected Features:\", selected_features)"
   ]
  },
  {
   "cell_type": "code",
   "execution_count": 48,
   "id": "95d5761e",
   "metadata": {
    "ExecuteTime": {
     "end_time": "2024-07-01T06:43:14.355152Z",
     "start_time": "2024-07-01T06:43:14.340015Z"
    }
   },
   "outputs": [],
   "source": [
    "# Select data with selected features\n",
    "feature_selection_train = sc_x_train[selected_features]\n",
    "feature_selection_test = sc_x_test[selected_features]"
   ]
  },
  {
   "cell_type": "markdown",
   "id": "f0a9abdb",
   "metadata": {},
   "source": [
    "***FIT LOGISTIC REGRESSION***"
   ]
  },
  {
   "cell_type": "code",
   "execution_count": 53,
   "id": "ed75a390",
   "metadata": {
    "ExecuteTime": {
     "end_time": "2024-07-01T06:43:14.513637Z",
     "start_time": "2024-07-01T06:43:14.357668Z"
    }
   },
   "outputs": [
    {
     "name": "stdout",
     "output_type": "stream",
     "text": [
      "              precision    recall  f1-score   support\n",
      "\n",
      "           0       0.81      0.98      0.89      4687\n",
      "           1       0.69      0.17      0.28      1313\n",
      "\n",
      "    accuracy                           0.80      6000\n",
      "   macro avg       0.75      0.58      0.58      6000\n",
      "weighted avg       0.78      0.80      0.75      6000\n",
      "\n"
     ]
    }
   ],
   "source": [
    "# classification report with selected features using LogisticRegression\n",
    "\n",
    "from sklearn.linear_model import LogisticRegression\n",
    "from sklearn.metrics import classification_report\n",
    "\n",
    "logreg = LogisticRegression(max_iter=200)\n",
    "logreg.fit(feature_selection_train, y_train)\n",
    "y_pred = logreg.predict(feature_selection_test)\n",
    "\n",
    "logrepo= classification_report(y_test, y_pred)\n",
    "print(logrepo)"
   ]
  },
  {
   "cell_type": "markdown",
   "id": "9135fe96",
   "metadata": {},
   "source": [
    "***ROC CURVE AND AUC VALUE***"
   ]
  },
  {
   "cell_type": "code",
   "execution_count": 56,
   "id": "f435ec53",
   "metadata": {
    "ExecuteTime": {
     "end_time": "2024-07-01T06:43:14.848213Z",
     "start_time": "2024-07-01T06:43:14.516505Z"
    }
   },
   "outputs": [
    {
     "data": {
      "image/png": "[encoded data removed]",
      "text/plain": [
       "<Figure size 640x480 with 1 Axes>"
      ]
     },
     "metadata": {},
     "output_type": "display_data"
    }
   ],
   "source": [
    "# Get predicted probabilities\n",
    "y_pred_proba_log = logreg.predict_proba(feature_selection_test)[:, 1]\n",
    "# Calculate ROC curve and AUC\n",
    "fpr, tpr, thresholds = roc_curve(y_test, y_pred_proba_log)\n",
    "roc_auc = auc(fpr, tpr)\n",
    "\n",
    "# Plot ROC curve\n",
    "plt.figure()\n",
    "plt.plot(fpr, tpr, color='darkorange', lw=2, label='ROC curve (AUC = %0.2f)' % roc_auc)\n",
    "plt.plot([0, 1], [0, 1], color='navy', lw=2, linestyle='--')\n",
    "plt.xlim([0.0, 1.0])\n",
    "plt.ylim([0.0, 1.05])\n",
    "plt.xlabel('False Positive Rate')\n",
    "plt.ylabel('True Positive Rate')\n",
    "plt.title('Receiver Operating Characteristic')\n",
    "plt.legend(loc=\"lower right\")\n",
    "plt.show()"
   ]
  },
  {
   "cell_type": "markdown",
   "id": "b303b07c",
   "metadata": {
    "ExecuteTime": {
     "end_time": "2024-07-01T06:33:54.171184Z",
     "start_time": "2024-07-01T06:33:54.164923Z"
    }
   },
   "source": [
    "***CONFUSION MATRIX***"
   ]
  },
  {
   "cell_type": "code",
   "execution_count": 59,
   "id": "eb2bd404",
   "metadata": {
    "ExecuteTime": {
     "end_time": "2024-07-01T06:43:15.125714Z",
     "start_time": "2024-07-01T06:43:14.852206Z"
    }
   },
   "outputs": [
    {
     "data": {
      "image/png": "[encoded data removed]",
      "text/plain": [
       "<Figure size 640x480 with 2 Axes>"
      ]
     },
     "metadata": {},
     "output_type": "display_data"
    }
   ],
   "source": [
    "# the confusion matrix\n",
    "conf_matrix = confusion_matrix(y_test, y_pred)\n",
    "\n",
    "# Display the confusion matrix\n",
    "disp = ConfusionMatrixDisplay(confusion_matrix=conf_matrix)\n",
    "disp.plot()\n",
    "plt.show()"
   ]
  },
  {
   "cell_type": "markdown",
   "id": "0b586242",
   "metadata": {},
   "source": [
    "***DECISION TREE CLASSIFIER***"
   ]
  },
  {
   "cell_type": "code",
   "execution_count": 62,
   "id": "105170af",
   "metadata": {
    "ExecuteTime": {
     "end_time": "2024-07-01T06:43:15.785573Z",
     "start_time": "2024-07-01T06:43:15.128605Z"
    }
   },
   "outputs": [
    {
     "name": "stdout",
     "output_type": "stream",
     "text": [
      "              precision    recall  f1-score   support\n",
      "\n",
      "           0       0.82      0.82      0.82      4687\n",
      "           1       0.36      0.36      0.36      1313\n",
      "\n",
      "    accuracy                           0.72      6000\n",
      "   macro avg       0.59      0.59      0.59      6000\n",
      "weighted avg       0.72      0.72      0.72      6000\n",
      "\n"
     ]
    }
   ],
   "source": [
    "from sklearn.tree import DecisionTreeClassifier\n",
    "\n",
    "# Train a Decision Tree Classifier\n",
    "dt_classifier = DecisionTreeClassifier(random_state=42)\n",
    "dt_classifier.fit(feature_selection_train, y_train)\n",
    "\n",
    "# Predict on the test set\n",
    "y_pred_dt = dt_classifier.predict(feature_selection_test)\n",
    "\n",
    "# Print classification report\n",
    "dtree= classification_report(y_test, y_pred_dt)\n",
    "print(dtree)"
   ]
  },
  {
   "cell_type": "markdown",
   "id": "f551f926",
   "metadata": {},
   "source": [
    "***ROC CURVE AND AUC VALUE***"
   ]
  },
  {
   "cell_type": "code",
   "execution_count": 65,
   "id": "31364573",
   "metadata": {
    "ExecuteTime": {
     "end_time": "2024-07-01T06:43:16.051162Z",
     "start_time": "2024-07-01T06:43:15.789198Z"
    }
   },
   "outputs": [
    {
     "data": {
      "image/png": "[encoded data removed]",
      "text/plain": [
       "<Figure size 640x480 with 1 Axes>"
      ]
     },
     "metadata": {},
     "output_type": "display_data"
    }
   ],
   "source": [
    "# Get predicted probabilities\n",
    "y_pred_proba = dt_classifier.predict_proba(feature_selection_test)[:, 1]\n",
    "\n",
    "# Calculate ROC curve and AUC\n",
    "fpr, tpr, thresholds = roc_curve(y_test, y_pred_proba)\n",
    "roc_auc = auc(fpr, tpr)\n",
    "\n",
    "# Plot ROC curve\n",
    "plt.figure()\n",
    "plt.plot(fpr, tpr, color='darkorange', lw=2, label='ROC curve (area = %0.2f)' % roc_auc)\n",
    "plt.plot([0, 1], [0, 1], color='navy', lw=2, linestyle='--')\n",
    "plt.xlim([0.0, 1.0])\n",
    "plt.ylim([0.0, 1.05])\n",
    "plt.xlabel('False Positive Rate')\n",
    "plt.ylabel('True Positive Rate')\n",
    "plt.title('Receiver Operating Characteristic')\n",
    "plt.legend(loc=\"lower right\")\n",
    "plt.show()"
   ]
  },
  {
   "cell_type": "markdown",
   "id": "6e1c256e",
   "metadata": {
    "ExecuteTime": {
     "end_time": "2024-07-01T06:34:27.618778Z",
     "start_time": "2024-07-01T06:34:27.609268Z"
    }
   },
   "source": [
    "***CONFUSION MATRIX***"
   ]
  },
  {
   "cell_type": "code",
   "execution_count": 68,
   "id": "44b05343",
   "metadata": {
    "ExecuteTime": {
     "end_time": "2024-07-01T06:43:16.311523Z",
     "start_time": "2024-07-01T06:43:16.055221Z"
    }
   },
   "outputs": [
    {
     "data": {
      "image/png": "[encoded data removed]",
      "text/plain": [
       "<Figure size 640x480 with 2 Axes>"
      ]
     },
     "metadata": {},
     "output_type": "display_data"
    }
   ],
   "source": [
    "# Compute the confusion matrix\n",
    "conf_matrix2 = confusion_matrix(y_test, y_pred_dt)\n",
    "\n",
    "# Display the confusion matrix\n",
    "disp = ConfusionMatrixDisplay(confusion_matrix=conf_matrix2)\n",
    "disp.plot()\n",
    "plt.show()"
   ]
  },
  {
   "cell_type": "code",
   "execution_count": 70,
   "id": "ee954c20",
   "metadata": {
    "ExecuteTime": {
     "end_time": "2024-07-01T06:43:16.324371Z",
     "start_time": "2024-07-01T06:43:16.315552Z"
    }
   },
   "outputs": [],
   "source": [
    "import re\n",
    "def parse_classification_report(report):\n",
    "    # Split the report by lines\n",
    "    lines = report.split('\\n')\n",
    "    parsed_data = []\n",
    "    \n",
    "    for line in lines[2:-3]:  # Skip headers and footers\n",
    "        line_data = re.split(r'\\s{2,}', line.strip())\n",
    "        if len(line_data) < 5:\n",
    "            continue\n",
    "        class_name = line_data[0]\n",
    "        precision = float(line_data[1])\n",
    "        recall = float(line_data[2])\n",
    "        f1_score = float(line_data[3])\n",
    "        support = float(line_data[4])\n",
    "        \n",
    "        parsed_data.append({\n",
    "            'class': class_name,\n",
    "            'precision': precision,\n",
    "            'recall': recall,\n",
    "            'f1-score': f1_score,\n",
    "            'support': support\n",
    "        })\n",
    "    \n",
    "    df = pd.DataFrame(parsed_data)\n",
    "    return df"
   ]
  },
  {
   "cell_type": "code",
   "execution_count": 72,
   "id": "d9cf65c7",
   "metadata": {
    "ExecuteTime": {
     "end_time": "2024-07-01T06:43:16.335965Z",
     "start_time": "2024-07-01T06:43:16.327124Z"
    }
   },
   "outputs": [],
   "source": [
    "df1 = parse_classification_report(dtree)\n",
    "df2 = parse_classification_report(logrepo)"
   ]
  },
  {
   "cell_type": "code",
   "execution_count": 74,
   "id": "c8a7b778",
   "metadata": {
    "ExecuteTime": {
     "end_time": "2024-07-01T06:43:16.354052Z",
     "start_time": "2024-07-01T06:43:16.340479Z"
    }
   },
   "outputs": [
    {
     "name": "stdout",
     "output_type": "stream",
     "text": [
      "                 model class  precision  recall  f1-score  support\n",
      "0        Decision Tree     0       0.82    0.82      0.82   4687.0\n",
      "1        Decision Tree     1       0.36    0.36      0.36   1313.0\n",
      "0  Logistic Regression     0       0.81    0.98      0.89   4687.0\n",
      "1  Logistic Regression     1       0.69    0.17      0.28   1313.0\n"
     ]
    }
   ],
   "source": [
    "# Add model names and overall accuracy\n",
    "df1['model'] = 'Decision Tree'\n",
    "df2['model'] = 'Logistic Regression'\n",
    "\n",
    "# Concatenate the two dataframes\n",
    "comparison_df = pd.concat([df1, df2])\n",
    "\n",
    "# Reorder columns\n",
    "comparison_df = comparison_df[['model', 'class', 'precision', 'recall', 'f1-score', 'support']]\n",
    "\n",
    "# Display the comparison table\n",
    "print(comparison_df)"
   ]
  }
 ],
 "metadata": {
  "kernelspec": {
   "display_name": "Python 3 (ipykernel)",
   "language": "python",
   "name": "python3"
  },
  "language_info": {
   "codemirror_mode": {
    "name": "ipython",
    "version": 3
   },
   "file_extension": ".py",
   "mimetype": "text/x-python",
   "name": "python",
   "nbconvert_exporter": "python",
   "pygments_lexer": "ipython3",
   "version": "3.11.7"
  },
  "varInspector": {
   "cols": {
    "lenName": 16,
    "lenType": 16,
    "lenVar": 40
   },
   "kernels_config": {
    "python": {
     "delete_cmd_postfix": "",
     "delete_cmd_prefix": "del ",
     "library": "var_list.py",
     "varRefreshCmd": "print(var_dic_list())"
    },
    "r": {
     "delete_cmd_postfix": ") ",
     "delete_cmd_prefix": "rm(",
     "library": "var_list.r",
     "varRefreshCmd": "cat(var_dic_list()) "
    }
   },
   "types_to_exclude": [
    "module",
    "function",
    "builtin_function_or_method",
    "instance",
    "_Feature"
   ],
   "window_display": false
  }
 },
 "nbformat": 4,
 "nbformat_minor": 5
}
